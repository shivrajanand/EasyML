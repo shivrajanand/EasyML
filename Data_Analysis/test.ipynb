{
 "cells": [
  {
   "cell_type": "code",
   "id": "initial_id",
   "metadata": {
    "collapsed": true,
    "ExecuteTime": {
     "end_time": "2024-08-20T13:00:11.162011Z",
     "start_time": "2024-08-20T13:00:10.553787Z"
    }
   },
   "source": "import pandas as pd",
   "outputs": [],
   "execution_count": 1
  },
  {
   "metadata": {
    "ExecuteTime": {
     "end_time": "2024-08-20T13:00:11.200196Z",
     "start_time": "2024-08-20T13:00:11.183199Z"
    }
   },
   "cell_type": "code",
   "source": [
    "df = pd.DataFrame([[x, x*x] for x in range(1,11)], columns=['number', 'square'])\n",
    "df"
   ],
   "id": "c155be0c071edcb9",
   "outputs": [
    {
     "data": {
      "text/plain": [
       "   number  square\n",
       "0       1       1\n",
       "1       2       4\n",
       "2       3       9\n",
       "3       4      16\n",
       "4       5      25\n",
       "5       6      36\n",
       "6       7      49\n",
       "7       8      64\n",
       "8       9      81\n",
       "9      10     100"
      ],
      "text/html": [
       "<div>\n",
       "<style scoped>\n",
       "    .dataframe tbody tr th:only-of-type {\n",
       "        vertical-align: middle;\n",
       "    }\n",
       "\n",
       "    .dataframe tbody tr th {\n",
       "        vertical-align: top;\n",
       "    }\n",
       "\n",
       "    .dataframe thead th {\n",
       "        text-align: right;\n",
       "    }\n",
       "</style>\n",
       "<table border=\"1\" class=\"dataframe\">\n",
       "  <thead>\n",
       "    <tr style=\"text-align: right;\">\n",
       "      <th></th>\n",
       "      <th>number</th>\n",
       "      <th>square</th>\n",
       "    </tr>\n",
       "  </thead>\n",
       "  <tbody>\n",
       "    <tr>\n",
       "      <th>0</th>\n",
       "      <td>1</td>\n",
       "      <td>1</td>\n",
       "    </tr>\n",
       "    <tr>\n",
       "      <th>1</th>\n",
       "      <td>2</td>\n",
       "      <td>4</td>\n",
       "    </tr>\n",
       "    <tr>\n",
       "      <th>2</th>\n",
       "      <td>3</td>\n",
       "      <td>9</td>\n",
       "    </tr>\n",
       "    <tr>\n",
       "      <th>3</th>\n",
       "      <td>4</td>\n",
       "      <td>16</td>\n",
       "    </tr>\n",
       "    <tr>\n",
       "      <th>4</th>\n",
       "      <td>5</td>\n",
       "      <td>25</td>\n",
       "    </tr>\n",
       "    <tr>\n",
       "      <th>5</th>\n",
       "      <td>6</td>\n",
       "      <td>36</td>\n",
       "    </tr>\n",
       "    <tr>\n",
       "      <th>6</th>\n",
       "      <td>7</td>\n",
       "      <td>49</td>\n",
       "    </tr>\n",
       "    <tr>\n",
       "      <th>7</th>\n",
       "      <td>8</td>\n",
       "      <td>64</td>\n",
       "    </tr>\n",
       "    <tr>\n",
       "      <th>8</th>\n",
       "      <td>9</td>\n",
       "      <td>81</td>\n",
       "    </tr>\n",
       "    <tr>\n",
       "      <th>9</th>\n",
       "      <td>10</td>\n",
       "      <td>100</td>\n",
       "    </tr>\n",
       "  </tbody>\n",
       "</table>\n",
       "</div>"
      ]
     },
     "execution_count": 2,
     "metadata": {},
     "output_type": "execute_result"
    }
   ],
   "execution_count": 2
  },
  {
   "metadata": {
    "ExecuteTime": {
     "end_time": "2024-08-20T13:00:11.363326Z",
     "start_time": "2024-08-20T13:00:11.354460Z"
    }
   },
   "cell_type": "code",
   "source": "from Data_Analysis.Analysis_Functions import AnalyseDataframe",
   "id": "7fdeb78def4d8e70",
   "outputs": [],
   "execution_count": 3
  },
  {
   "metadata": {
    "ExecuteTime": {
     "end_time": "2024-08-20T13:00:11.454563Z",
     "start_time": "2024-08-20T13:00:11.430813Z"
    }
   },
   "cell_type": "code",
   "source": "AnalyseDataframe(df)",
   "id": "dece3755b9c60e0c",
   "outputs": [
    {
     "name": "stdout",
     "output_type": "stream",
     "text": [
      "1. Size of data: \n",
      "\n",
      "(10, 2)\n",
      "\n",
      "-----------------------------------------------------------------\n",
      "\n",
      "2. Data Sample: Random 1 Rows\n",
      "   number  square\n",
      "7       8      64\n",
      "\n",
      "-----------------------------------------------------------------\n",
      "\n",
      "3. Data Types of Columns:\n",
      "\n",
      "<class 'pandas.core.frame.DataFrame'>\n",
      "RangeIndex: 10 entries, 0 to 9\n",
      "Data columns (total 2 columns):\n",
      " #   Column  Non-Null Count  Dtype\n",
      "---  ------  --------------  -----\n",
      " 0   number  10 non-null     int64\n",
      " 1   square  10 non-null     int64\n",
      "dtypes: int64(2)\n",
      "memory usage: 292.0 bytes\n",
      "None\n",
      "\n",
      "-----------------------------------------------------------------\n",
      "\n",
      "4. Column Names: \n",
      "Index(['number', 'square'], dtype='object')\n",
      "\n",
      "-----------------------------------------------------------------\n",
      "\n",
      "5. Missing Values: \n",
      "\n",
      "number    0\n",
      "square    0\n",
      "dtype: int64\n",
      "\n",
      "-----------------------------------------------------------------\n",
      "\n",
      "6. Mathematical Description of Data: \n",
      "\n",
      "         number      square\n",
      "count  10.00000   10.000000\n",
      "mean    5.50000   38.500000\n",
      "std     3.02765   34.173577\n",
      "min     1.00000    1.000000\n",
      "25%     3.25000   10.750000\n",
      "50%     5.50000   30.500000\n",
      "75%     7.75000   60.250000\n",
      "max    10.00000  100.000000\n",
      "\n",
      "-----------------------------------------------------------------\n",
      "\n",
      "7. Duplicate Values: \n",
      "\n",
      "0\n",
      "\n",
      "-----------------------------------------------------------------\n",
      "\n",
      "8. Correlation: \n",
      "\n",
      "          number    square\n",
      "number  1.000000  0.974559\n",
      "square  0.974559  1.000000\n"
     ]
    }
   ],
   "execution_count": 4
  },
  {
   "metadata": {
    "ExecuteTime": {
     "end_time": "2024-08-20T13:00:11.561026Z",
     "start_time": "2024-08-20T13:00:11.552594Z"
    }
   },
   "cell_type": "code",
   "source": "",
   "id": "5fda49c8d80373cc",
   "outputs": [],
   "execution_count": null
  }
 ],
 "metadata": {
  "kernelspec": {
   "display_name": "Python 3",
   "language": "python",
   "name": "python3"
  },
  "language_info": {
   "codemirror_mode": {
    "name": "ipython",
    "version": 2
   },
   "file_extension": ".py",
   "mimetype": "text/x-python",
   "name": "python",
   "nbconvert_exporter": "python",
   "pygments_lexer": "ipython2",
   "version": "2.7.6"
  }
 },
 "nbformat": 4,
 "nbformat_minor": 5
}
